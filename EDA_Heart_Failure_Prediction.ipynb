{
  "nbformat": 4,
  "nbformat_minor": 0,
  "metadata": {
    "colab": {
      "name": "EDA - Heart Failure Prediction",
      "provenance": [],
      "mount_file_id": "1lCKYizXq6Wye6wc4oIsjLZOvCE3LhYwD",
      "authorship_tag": "ABX9TyNDWh2sUaad7BEjxjiaWvgV",
      "include_colab_link": true
    },
    "kernelspec": {
      "name": "python3",
      "display_name": "Python 3"
    }
  },
  "cells": [
    {
      "cell_type": "markdown",
      "metadata": {
        "id": "view-in-github",
        "colab_type": "text"
      },
      "source": [
        "<a href=\"https://colab.research.google.com/github/joyloruth/Cardiovascular-Failure-Predictor/blob/master/EDA_Heart_Failure_Prediction.ipynb\" target=\"_parent\"><img src=\"https://colab.research.google.com/assets/colab-badge.svg\" alt=\"Open In Colab\"/></a>"
      ]
    },
    {
      "cell_type": "markdown",
      "metadata": {
        "id": "wCI7LGYs_Kmq",
        "colab_type": "text"
      },
      "source": [
        "# **Exploratory Data Analysis**"
      ]
    },
    {
      "cell_type": "markdown",
      "metadata": {
        "id": "ZJ88wNVv93Ab",
        "colab_type": "text"
      },
      "source": [
        "## **Import Python Libraries**"
      ]
    },
    {
      "cell_type": "code",
      "metadata": {
        "id": "QLdl9qUF8IFD",
        "colab_type": "code",
        "colab": {}
      },
      "source": [
        "import pandas as pd"
      ],
      "execution_count": 3,
      "outputs": []
    },
    {
      "cell_type": "code",
      "metadata": {
        "id": "ZbJAuhBmGtwO",
        "colab_type": "code",
        "colab": {}
      },
      "source": [
        "import matplotlib.pyplot as plt"
      ],
      "execution_count": 4,
      "outputs": []
    },
    {
      "cell_type": "code",
      "metadata": {
        "id": "ofKn4LDk_PGb",
        "colab_type": "code",
        "colab": {}
      },
      "source": [
        "import matplotlib.axes as axes\n",
        "import matplotlib.pyplot as pie"
      ],
      "execution_count": 5,
      "outputs": []
    },
    {
      "cell_type": "code",
      "metadata": {
        "id": "fzGTT42Y9Clh",
        "colab_type": "code",
        "colab": {}
      },
      "source": [
        "import seaborn as sns"
      ],
      "execution_count": 37,
      "outputs": []
    },
    {
      "cell_type": "markdown",
      "metadata": {
        "id": "ThAq3-L699NK",
        "colab_type": "text"
      },
      "source": [
        "## **Load Cleaned Dataset**\n"
      ]
    },
    {
      "cell_type": "code",
      "metadata": {
        "id": "kJ7Mux7D9FCP",
        "colab_type": "code",
        "colab": {}
      },
      "source": [
        "heart = pd.read_csv('/content/cleaned_heart_failure_dataset.csv')"
      ],
      "execution_count": 7,
      "outputs": []
    },
    {
      "cell_type": "code",
      "metadata": {
        "id": "XG-Fl4my_5H8",
        "colab_type": "code",
        "colab": {
          "base_uri": "https://localhost:8080/",
          "height": 98
        },
        "outputId": "db6a4e24-89a6-45f3-bddc-1b5543938605"
      },
      "source": [
        "heart.columns"
      ],
      "execution_count": 20,
      "outputs": [
        {
          "output_type": "execute_result",
          "data": {
            "text/plain": [
              "Index(['Unnamed: 0', 'age', 'sex', 'diabetic', 'anemic', 'hypertensive',\n",
              "       'smoker', 'creatinine_phosphokinase_level', 'serum_creatinine_level',\n",
              "       'serum_sodium_level', 'ejection_fraction', 'platelets', 'interim',\n",
              "       'deceased'],\n",
              "      dtype='object')"
            ]
          },
          "metadata": {
            "tags": []
          },
          "execution_count": 20
        }
      ]
    },
    {
      "cell_type": "code",
      "metadata": {
        "id": "qLUnZwoB_SXR",
        "colab_type": "code",
        "colab": {}
      },
      "source": [
        "heart = heart.drop(['Unnamed: 0'], axis= 1)"
      ],
      "execution_count": 25,
      "outputs": []
    },
    {
      "cell_type": "code",
      "metadata": {
        "id": "O7-xt0dpX4Ts",
        "colab_type": "code",
        "colab": {
          "base_uri": "https://localhost:8080/",
          "height": 98
        },
        "outputId": "2d3c08dc-6f25-4166-be65-afde3c979cd1"
      },
      "source": [
        "heart.columns"
      ],
      "execution_count": 31,
      "outputs": [
        {
          "output_type": "execute_result",
          "data": {
            "text/plain": [
              "Index(['age', 'sex', 'diabetic', 'anemic', 'hypertensive', 'smoker',\n",
              "       'creatinine_phosphokinase_level', 'serum_creatinine_level',\n",
              "       'serum_sodium_level', 'ejection_fraction', 'platelets', 'interim',\n",
              "       'deceased'],\n",
              "      dtype='object')"
            ]
          },
          "metadata": {
            "tags": []
          },
          "execution_count": 31
        }
      ]
    },
    {
      "cell_type": "markdown",
      "metadata": {
        "id": "OmL-fZ19VaxJ",
        "colab_type": "text"
      },
      "source": [
        ""
      ]
    },
    {
      "cell_type": "code",
      "metadata": {
        "id": "EYLolEMC_CiU",
        "colab_type": "code",
        "colab": {
          "base_uri": "https://localhost:8080/",
          "height": 338
        },
        "outputId": "1a1b2e23-d1a6-4eef-9790-aae651d18c70"
      },
      "source": [
        "heart.info()"
      ],
      "execution_count": 26,
      "outputs": [
        {
          "output_type": "stream",
          "text": [
            "<class 'pandas.core.frame.DataFrame'>\n",
            "RangeIndex: 299 entries, 0 to 298\n",
            "Data columns (total 13 columns):\n",
            " #   Column                          Non-Null Count  Dtype  \n",
            "---  ------                          --------------  -----  \n",
            " 0   age                             299 non-null    float64\n",
            " 1   sex                             299 non-null    int64  \n",
            " 2   diabetic                        299 non-null    int64  \n",
            " 3   anemic                          299 non-null    int64  \n",
            " 4   hypertensive                    299 non-null    int64  \n",
            " 5   smoker                          299 non-null    int64  \n",
            " 6   creatinine_phosphokinase_level  299 non-null    int64  \n",
            " 7   serum_creatinine_level          299 non-null    float64\n",
            " 8   serum_sodium_level              299 non-null    int64  \n",
            " 9   ejection_fraction               299 non-null    int64  \n",
            " 10  platelets                       299 non-null    float64\n",
            " 11  interim                         299 non-null    int64  \n",
            " 12  deceased                        299 non-null    int64  \n",
            "dtypes: float64(3), int64(10)\n",
            "memory usage: 30.5 KB\n"
          ],
          "name": "stdout"
        }
      ]
    },
    {
      "cell_type": "code",
      "metadata": {
        "id": "v-o5BNIG-q6U",
        "colab_type": "code",
        "colab": {
          "base_uri": "https://localhost:8080/",
          "height": 188
        },
        "outputId": "13795efc-485c-4553-fad9-d45cc55f11b4"
      },
      "source": [
        "heart.head()"
      ],
      "execution_count": 27,
      "outputs": [
        {
          "output_type": "execute_result",
          "data": {
            "text/html": [
              "<div>\n",
              "<style scoped>\n",
              "    .dataframe tbody tr th:only-of-type {\n",
              "        vertical-align: middle;\n",
              "    }\n",
              "\n",
              "    .dataframe tbody tr th {\n",
              "        vertical-align: top;\n",
              "    }\n",
              "\n",
              "    .dataframe thead th {\n",
              "        text-align: right;\n",
              "    }\n",
              "</style>\n",
              "<table border=\"1\" class=\"dataframe\">\n",
              "  <thead>\n",
              "    <tr style=\"text-align: right;\">\n",
              "      <th></th>\n",
              "      <th>age</th>\n",
              "      <th>sex</th>\n",
              "      <th>diabetic</th>\n",
              "      <th>anemic</th>\n",
              "      <th>hypertensive</th>\n",
              "      <th>smoker</th>\n",
              "      <th>creatinine_phosphokinase_level</th>\n",
              "      <th>serum_creatinine_level</th>\n",
              "      <th>serum_sodium_level</th>\n",
              "      <th>ejection_fraction</th>\n",
              "      <th>platelets</th>\n",
              "      <th>interim</th>\n",
              "      <th>deceased</th>\n",
              "    </tr>\n",
              "  </thead>\n",
              "  <tbody>\n",
              "    <tr>\n",
              "      <th>0</th>\n",
              "      <td>75.0</td>\n",
              "      <td>1</td>\n",
              "      <td>0</td>\n",
              "      <td>0</td>\n",
              "      <td>1</td>\n",
              "      <td>0</td>\n",
              "      <td>582</td>\n",
              "      <td>1.9</td>\n",
              "      <td>130</td>\n",
              "      <td>20</td>\n",
              "      <td>265000.00</td>\n",
              "      <td>4</td>\n",
              "      <td>1</td>\n",
              "    </tr>\n",
              "    <tr>\n",
              "      <th>1</th>\n",
              "      <td>55.0</td>\n",
              "      <td>1</td>\n",
              "      <td>0</td>\n",
              "      <td>0</td>\n",
              "      <td>0</td>\n",
              "      <td>0</td>\n",
              "      <td>7861</td>\n",
              "      <td>1.1</td>\n",
              "      <td>136</td>\n",
              "      <td>38</td>\n",
              "      <td>263358.03</td>\n",
              "      <td>6</td>\n",
              "      <td>1</td>\n",
              "    </tr>\n",
              "    <tr>\n",
              "      <th>2</th>\n",
              "      <td>65.0</td>\n",
              "      <td>1</td>\n",
              "      <td>0</td>\n",
              "      <td>0</td>\n",
              "      <td>0</td>\n",
              "      <td>1</td>\n",
              "      <td>146</td>\n",
              "      <td>1.3</td>\n",
              "      <td>129</td>\n",
              "      <td>20</td>\n",
              "      <td>162000.00</td>\n",
              "      <td>7</td>\n",
              "      <td>1</td>\n",
              "    </tr>\n",
              "    <tr>\n",
              "      <th>3</th>\n",
              "      <td>50.0</td>\n",
              "      <td>1</td>\n",
              "      <td>0</td>\n",
              "      <td>1</td>\n",
              "      <td>0</td>\n",
              "      <td>0</td>\n",
              "      <td>111</td>\n",
              "      <td>1.9</td>\n",
              "      <td>137</td>\n",
              "      <td>20</td>\n",
              "      <td>210000.00</td>\n",
              "      <td>7</td>\n",
              "      <td>1</td>\n",
              "    </tr>\n",
              "    <tr>\n",
              "      <th>4</th>\n",
              "      <td>65.0</td>\n",
              "      <td>0</td>\n",
              "      <td>1</td>\n",
              "      <td>1</td>\n",
              "      <td>0</td>\n",
              "      <td>0</td>\n",
              "      <td>160</td>\n",
              "      <td>2.7</td>\n",
              "      <td>116</td>\n",
              "      <td>20</td>\n",
              "      <td>327000.00</td>\n",
              "      <td>8</td>\n",
              "      <td>1</td>\n",
              "    </tr>\n",
              "  </tbody>\n",
              "</table>\n",
              "</div>"
            ],
            "text/plain": [
              "    age  sex  diabetic  anemic  ...  ejection_fraction  platelets  interim  deceased\n",
              "0  75.0    1         0       0  ...                 20  265000.00        4         1\n",
              "1  55.0    1         0       0  ...                 38  263358.03        6         1\n",
              "2  65.0    1         0       0  ...                 20  162000.00        7         1\n",
              "3  50.0    1         0       1  ...                 20  210000.00        7         1\n",
              "4  65.0    0         1       1  ...                 20  327000.00        8         1\n",
              "\n",
              "[5 rows x 13 columns]"
            ]
          },
          "metadata": {
            "tags": []
          },
          "execution_count": 27
        }
      ]
    },
    {
      "cell_type": "code",
      "metadata": {
        "id": "Kpv9k75J-wnp",
        "colab_type": "code",
        "colab": {
          "base_uri": "https://localhost:8080/",
          "height": 188
        },
        "outputId": "eeb83cb2-8a8c-4d9a-e779-92e75a99fd18"
      },
      "source": [
        "heart.tail()"
      ],
      "execution_count": 28,
      "outputs": [
        {
          "output_type": "execute_result",
          "data": {
            "text/html": [
              "<div>\n",
              "<style scoped>\n",
              "    .dataframe tbody tr th:only-of-type {\n",
              "        vertical-align: middle;\n",
              "    }\n",
              "\n",
              "    .dataframe tbody tr th {\n",
              "        vertical-align: top;\n",
              "    }\n",
              "\n",
              "    .dataframe thead th {\n",
              "        text-align: right;\n",
              "    }\n",
              "</style>\n",
              "<table border=\"1\" class=\"dataframe\">\n",
              "  <thead>\n",
              "    <tr style=\"text-align: right;\">\n",
              "      <th></th>\n",
              "      <th>age</th>\n",
              "      <th>sex</th>\n",
              "      <th>diabetic</th>\n",
              "      <th>anemic</th>\n",
              "      <th>hypertensive</th>\n",
              "      <th>smoker</th>\n",
              "      <th>creatinine_phosphokinase_level</th>\n",
              "      <th>serum_creatinine_level</th>\n",
              "      <th>serum_sodium_level</th>\n",
              "      <th>ejection_fraction</th>\n",
              "      <th>platelets</th>\n",
              "      <th>interim</th>\n",
              "      <th>deceased</th>\n",
              "    </tr>\n",
              "  </thead>\n",
              "  <tbody>\n",
              "    <tr>\n",
              "      <th>294</th>\n",
              "      <td>62.0</td>\n",
              "      <td>1</td>\n",
              "      <td>1</td>\n",
              "      <td>0</td>\n",
              "      <td>1</td>\n",
              "      <td>1</td>\n",
              "      <td>61</td>\n",
              "      <td>1.1</td>\n",
              "      <td>143</td>\n",
              "      <td>38</td>\n",
              "      <td>155000.0</td>\n",
              "      <td>270</td>\n",
              "      <td>0</td>\n",
              "    </tr>\n",
              "    <tr>\n",
              "      <th>295</th>\n",
              "      <td>55.0</td>\n",
              "      <td>0</td>\n",
              "      <td>0</td>\n",
              "      <td>0</td>\n",
              "      <td>0</td>\n",
              "      <td>0</td>\n",
              "      <td>1820</td>\n",
              "      <td>1.2</td>\n",
              "      <td>139</td>\n",
              "      <td>38</td>\n",
              "      <td>270000.0</td>\n",
              "      <td>271</td>\n",
              "      <td>0</td>\n",
              "    </tr>\n",
              "    <tr>\n",
              "      <th>296</th>\n",
              "      <td>45.0</td>\n",
              "      <td>0</td>\n",
              "      <td>1</td>\n",
              "      <td>0</td>\n",
              "      <td>0</td>\n",
              "      <td>0</td>\n",
              "      <td>2060</td>\n",
              "      <td>0.8</td>\n",
              "      <td>138</td>\n",
              "      <td>60</td>\n",
              "      <td>742000.0</td>\n",
              "      <td>278</td>\n",
              "      <td>0</td>\n",
              "    </tr>\n",
              "    <tr>\n",
              "      <th>297</th>\n",
              "      <td>45.0</td>\n",
              "      <td>1</td>\n",
              "      <td>0</td>\n",
              "      <td>0</td>\n",
              "      <td>0</td>\n",
              "      <td>1</td>\n",
              "      <td>2413</td>\n",
              "      <td>1.4</td>\n",
              "      <td>140</td>\n",
              "      <td>38</td>\n",
              "      <td>140000.0</td>\n",
              "      <td>280</td>\n",
              "      <td>0</td>\n",
              "    </tr>\n",
              "    <tr>\n",
              "      <th>298</th>\n",
              "      <td>50.0</td>\n",
              "      <td>1</td>\n",
              "      <td>0</td>\n",
              "      <td>0</td>\n",
              "      <td>0</td>\n",
              "      <td>1</td>\n",
              "      <td>196</td>\n",
              "      <td>1.6</td>\n",
              "      <td>136</td>\n",
              "      <td>45</td>\n",
              "      <td>395000.0</td>\n",
              "      <td>285</td>\n",
              "      <td>0</td>\n",
              "    </tr>\n",
              "  </tbody>\n",
              "</table>\n",
              "</div>"
            ],
            "text/plain": [
              "      age  sex  diabetic  ...  platelets  interim  deceased\n",
              "294  62.0    1         1  ...   155000.0      270         0\n",
              "295  55.0    0         0  ...   270000.0      271         0\n",
              "296  45.0    0         1  ...   742000.0      278         0\n",
              "297  45.0    1         0  ...   140000.0      280         0\n",
              "298  50.0    1         0  ...   395000.0      285         0\n",
              "\n",
              "[5 rows x 13 columns]"
            ]
          },
          "metadata": {
            "tags": []
          },
          "execution_count": 28
        }
      ]
    },
    {
      "cell_type": "code",
      "metadata": {
        "id": "HUdU4CwgXrQp",
        "colab_type": "code",
        "colab": {
          "base_uri": "https://localhost:8080/",
          "height": 272
        },
        "outputId": "3aead489-cbb8-41f2-d684-a9cf41690de1"
      },
      "source": [
        "heart.describe()"
      ],
      "execution_count": 29,
      "outputs": [
        {
          "output_type": "execute_result",
          "data": {
            "text/html": [
              "<div>\n",
              "<style scoped>\n",
              "    .dataframe tbody tr th:only-of-type {\n",
              "        vertical-align: middle;\n",
              "    }\n",
              "\n",
              "    .dataframe tbody tr th {\n",
              "        vertical-align: top;\n",
              "    }\n",
              "\n",
              "    .dataframe thead th {\n",
              "        text-align: right;\n",
              "    }\n",
              "</style>\n",
              "<table border=\"1\" class=\"dataframe\">\n",
              "  <thead>\n",
              "    <tr style=\"text-align: right;\">\n",
              "      <th></th>\n",
              "      <th>age</th>\n",
              "      <th>sex</th>\n",
              "      <th>diabetic</th>\n",
              "      <th>anemic</th>\n",
              "      <th>hypertensive</th>\n",
              "      <th>smoker</th>\n",
              "      <th>creatinine_phosphokinase_level</th>\n",
              "      <th>serum_creatinine_level</th>\n",
              "      <th>serum_sodium_level</th>\n",
              "      <th>ejection_fraction</th>\n",
              "      <th>platelets</th>\n",
              "      <th>interim</th>\n",
              "      <th>deceased</th>\n",
              "    </tr>\n",
              "  </thead>\n",
              "  <tbody>\n",
              "    <tr>\n",
              "      <th>count</th>\n",
              "      <td>299.000000</td>\n",
              "      <td>299.000000</td>\n",
              "      <td>299.000000</td>\n",
              "      <td>299.000000</td>\n",
              "      <td>299.000000</td>\n",
              "      <td>299.00000</td>\n",
              "      <td>299.000000</td>\n",
              "      <td>299.00000</td>\n",
              "      <td>299.000000</td>\n",
              "      <td>299.000000</td>\n",
              "      <td>299.000000</td>\n",
              "      <td>299.000000</td>\n",
              "      <td>299.00000</td>\n",
              "    </tr>\n",
              "    <tr>\n",
              "      <th>mean</th>\n",
              "      <td>60.833893</td>\n",
              "      <td>0.648829</td>\n",
              "      <td>0.418060</td>\n",
              "      <td>0.431438</td>\n",
              "      <td>0.351171</td>\n",
              "      <td>0.32107</td>\n",
              "      <td>581.839465</td>\n",
              "      <td>1.39388</td>\n",
              "      <td>136.625418</td>\n",
              "      <td>38.083612</td>\n",
              "      <td>263358.029264</td>\n",
              "      <td>130.260870</td>\n",
              "      <td>0.32107</td>\n",
              "    </tr>\n",
              "    <tr>\n",
              "      <th>std</th>\n",
              "      <td>11.894809</td>\n",
              "      <td>0.478136</td>\n",
              "      <td>0.494067</td>\n",
              "      <td>0.496107</td>\n",
              "      <td>0.478136</td>\n",
              "      <td>0.46767</td>\n",
              "      <td>970.287881</td>\n",
              "      <td>1.03451</td>\n",
              "      <td>4.412477</td>\n",
              "      <td>11.834841</td>\n",
              "      <td>97804.236869</td>\n",
              "      <td>77.614208</td>\n",
              "      <td>0.46767</td>\n",
              "    </tr>\n",
              "    <tr>\n",
              "      <th>min</th>\n",
              "      <td>40.000000</td>\n",
              "      <td>0.000000</td>\n",
              "      <td>0.000000</td>\n",
              "      <td>0.000000</td>\n",
              "      <td>0.000000</td>\n",
              "      <td>0.00000</td>\n",
              "      <td>23.000000</td>\n",
              "      <td>0.50000</td>\n",
              "      <td>113.000000</td>\n",
              "      <td>14.000000</td>\n",
              "      <td>25100.000000</td>\n",
              "      <td>4.000000</td>\n",
              "      <td>0.00000</td>\n",
              "    </tr>\n",
              "    <tr>\n",
              "      <th>25%</th>\n",
              "      <td>51.000000</td>\n",
              "      <td>0.000000</td>\n",
              "      <td>0.000000</td>\n",
              "      <td>0.000000</td>\n",
              "      <td>0.000000</td>\n",
              "      <td>0.00000</td>\n",
              "      <td>116.500000</td>\n",
              "      <td>0.90000</td>\n",
              "      <td>134.000000</td>\n",
              "      <td>30.000000</td>\n",
              "      <td>212500.000000</td>\n",
              "      <td>73.000000</td>\n",
              "      <td>0.00000</td>\n",
              "    </tr>\n",
              "    <tr>\n",
              "      <th>50%</th>\n",
              "      <td>60.000000</td>\n",
              "      <td>1.000000</td>\n",
              "      <td>0.000000</td>\n",
              "      <td>0.000000</td>\n",
              "      <td>0.000000</td>\n",
              "      <td>0.00000</td>\n",
              "      <td>250.000000</td>\n",
              "      <td>1.10000</td>\n",
              "      <td>137.000000</td>\n",
              "      <td>38.000000</td>\n",
              "      <td>262000.000000</td>\n",
              "      <td>115.000000</td>\n",
              "      <td>0.00000</td>\n",
              "    </tr>\n",
              "    <tr>\n",
              "      <th>75%</th>\n",
              "      <td>70.000000</td>\n",
              "      <td>1.000000</td>\n",
              "      <td>1.000000</td>\n",
              "      <td>1.000000</td>\n",
              "      <td>1.000000</td>\n",
              "      <td>1.00000</td>\n",
              "      <td>582.000000</td>\n",
              "      <td>1.40000</td>\n",
              "      <td>140.000000</td>\n",
              "      <td>45.000000</td>\n",
              "      <td>303500.000000</td>\n",
              "      <td>203.000000</td>\n",
              "      <td>1.00000</td>\n",
              "    </tr>\n",
              "    <tr>\n",
              "      <th>max</th>\n",
              "      <td>95.000000</td>\n",
              "      <td>1.000000</td>\n",
              "      <td>1.000000</td>\n",
              "      <td>1.000000</td>\n",
              "      <td>1.000000</td>\n",
              "      <td>1.00000</td>\n",
              "      <td>7861.000000</td>\n",
              "      <td>9.40000</td>\n",
              "      <td>148.000000</td>\n",
              "      <td>80.000000</td>\n",
              "      <td>850000.000000</td>\n",
              "      <td>285.000000</td>\n",
              "      <td>1.00000</td>\n",
              "    </tr>\n",
              "  </tbody>\n",
              "</table>\n",
              "</div>"
            ],
            "text/plain": [
              "              age         sex    diabetic  ...      platelets     interim   deceased\n",
              "count  299.000000  299.000000  299.000000  ...     299.000000  299.000000  299.00000\n",
              "mean    60.833893    0.648829    0.418060  ...  263358.029264  130.260870    0.32107\n",
              "std     11.894809    0.478136    0.494067  ...   97804.236869   77.614208    0.46767\n",
              "min     40.000000    0.000000    0.000000  ...   25100.000000    4.000000    0.00000\n",
              "25%     51.000000    0.000000    0.000000  ...  212500.000000   73.000000    0.00000\n",
              "50%     60.000000    1.000000    0.000000  ...  262000.000000  115.000000    0.00000\n",
              "75%     70.000000    1.000000    1.000000  ...  303500.000000  203.000000    1.00000\n",
              "max     95.000000    1.000000    1.000000  ...  850000.000000  285.000000    1.00000\n",
              "\n",
              "[8 rows x 13 columns]"
            ]
          },
          "metadata": {
            "tags": []
          },
          "execution_count": 29
        }
      ]
    },
    {
      "cell_type": "markdown",
      "metadata": {
        "id": "d0tcH3suHtQi",
        "colab_type": "text"
      },
      "source": [
        "# **Histograms**"
      ]
    },
    {
      "cell_type": "code",
      "metadata": {
        "id": "5zkEvnT0YQ2I",
        "colab_type": "code",
        "colab": {}
      },
      "source": [
        "plt.title('Age Distribution')\n",
        "ages_hist = heart['age']\n",
        "plt.hist(ages_hist,bins = 15, color='#2d3980', edgecolor = 'blue')\n",
        "plt.xlabel('Ages')\n",
        "plt.ylabel('Frequency')\n",
        "plt.show()\n",
        "\n",
        "plt.title('Patient Sex Distribution')\n",
        "sex_hist = heart['sex']\n",
        "plt.hist(sex_hist,bins=2,color='#2d3980',edgecolor='blue')\n",
        "plt.xlabel('Sex')\n",
        "plt.ylabel('Frequency')\n",
        "plt.show()\n",
        "\n",
        "plt.title('Diabetes Distribution')\n",
        "diabetes_hist = heart['diabetic']\n",
        "plt.hist(diabetes_hist,bins=2,color='#2d3980',edgecolor='blue')\n",
        "plt.xlabel('Diabetes')\n",
        "plt.ylabel('Frequency')\n",
        "plt.show()\n",
        "\n",
        "plt.title('Anaemia Distribution')\n",
        "anaemia_hist = heart['anemic']\n",
        "plt.hist(anaemia_hist,bins=2,color='#2d3980',edgecolor='blue')\n",
        "plt.xlabel('Anaemia')\n",
        "plt.ylabel('Frequency')\n",
        "plt.show()\n",
        "\n",
        "plt.title('Creatinine Phosphokinase Distribution')\n",
        "cre_phos_hist = heart['creatinine_phosphokinase_level']\n",
        "plt.hist(cre_phos_hist, bins=15, color = \"#2d3980\", edgecolor = \"blue\")\n",
        "plt.xlabel('Creatinine Phosphokinase')\n",
        "plt.ylabel('Frequency')\n",
        "plt.show()\n",
        "\n",
        "plt.title('Hypertensive Distribution')\n",
        "high_blood_hist = heart['hypertensive']\n",
        "plt.hist(high_blood_hist,bins=2,color='#2d3980',edgecolor='blue')\n",
        "plt.xlabel('High Blood Pressure')\n",
        "plt.ylabel('Frequency')\n",
        "plt.show()\n",
        "\n",
        "plt.title('Ejection Fraction Histogram')\n",
        "ejection_fraction_hist = heart['ejection_fraction']\n",
        "plt.hist(ejection_fraction_hist,bins=15,color='#2d3980',edgecolor='blue')\n",
        "plt.xlabel('Ejection Fraction Percentage')\n",
        "plt.ylabel('Frequency')\n",
        "plt.show()\n",
        "\n",
        "plt.title('Platelets Distribution')\n",
        "plate_hist = heart['platelets']\n",
        "plt.hist(plate_hist,bins=15,color='#2d3980',edgecolor='blue')\n",
        "plt.xlabel('Number of Platelets in blood')\n",
        "plt.ylabel('Frequency')\n",
        "plt.show()\n",
        "\n",
        "plt.title('Serum Creatinine Distribution')\n",
        "serum_creatinine_hist = heart['serum_creatinine_level']\n",
        "plt.hist(serum_creatinine_hist,bins=15,color='#2d3980',edgecolor='blue')\n",
        "plt.xlabel('Level of serum creatinine in blood')\n",
        "plt.ylabel('Frequency')\n",
        "plt.show()\n",
        "\n",
        "plt.title('Serum Sodium Distribution')\n",
        "serum_sodium_hist = heart['serum_sodium_level']\n",
        "plt.hist(serum_sodium_hist,bins=15,color='#2d3980',edgecolor='blue')\n",
        "plt.xlabel('Level of Serum Sodium in Blood')\n",
        "plt.ylabel('Frequency')\n",
        "plt.show()\n",
        "\n",
        "plt.title('Patient Smokers Distribution')\n",
        "smoking_hist = heart['smoker']\n",
        "plt.hist(smoking_hist,bins=2,color='#2d3980',edgecolor='blue')\n",
        "plt.xlabel('Smoking')\n",
        "plt.ylabel('Frequency')\n",
        "plt.show()\n",
        "\n",
        "plt.title('Patient Death Distribution')\n",
        "death_hist = heart['deceased']\n",
        "plt.hist(death_hist,bins=2,color='#2d3980',edgecolor='blue')\n",
        "plt.xlabel('Deceased')\n",
        "plt.ylabel('Frequency')\n",
        "plt.show()\n",
        "\n",
        "plt.title('Patient Interim Distribution')\n",
        "time_hist = heart['interim']\n",
        "plt.hist(time_hist,bins=2,color='#2d3980',edgecolor='blue')\n",
        "plt.xlabel('Follow-up')\n",
        "plt.ylabel('Frequency')\n",
        "plt.show()"
      ],
      "execution_count": null,
      "outputs": []
    },
    {
      "cell_type": "markdown",
      "metadata": {
        "colab_type": "text",
        "id": "Y0PzUzdtUKuV"
      },
      "source": [
        "# **Pie Charts**"
      ]
    },
    {
      "cell_type": "code",
      "metadata": {
        "id": "HJ2gckLy7wBh",
        "colab_type": "code",
        "colab": {
          "base_uri": "https://localhost:8080/",
          "height": 1000
        },
        "outputId": "4e34d555-e33e-441d-c5a7-c0ba6df72dcd"
      },
      "source": [
        "labels = 'smokers', 'non-smokers'\n",
        "sizes = [96, 203]\n",
        "explode = (0.01, 0.1)\n",
        "colors = ['lightblue', '#2d3980']\n",
        "plt.title = ('non')\n",
        "fig1, ax1 = plt.subplots()\n",
        "ax1.pie(sizes, explode=explode, labels=labels, autopct='%1.1f%%',\n",
        "        shadow=True, startangle=90, colors=colors)\n",
        "ax1.axis('equal') \n",
        "plt.show()\n",
        "\n",
        "\n",
        "labels = 'diabetic', 'non-diabetic'\n",
        "sizes = [125, 174]\n",
        "explode = (0.01, 0.1)\n",
        "colors = ['lightblue', '#2d3980']\n",
        "plt.title = ('non')\n",
        "fig1, ax1 = plt.subplots()\n",
        "ax1.pie(sizes, explode=explode, labels=labels, autopct='%1.1f%%',\n",
        "       shadow=True, startangle= 90, colors=colors)\n",
        "ax1.axis('equal') \n",
        "plt.show()\n",
        "\n",
        "\n",
        "\n",
        "labels = 'hypertensive', 'non-hypertensive'\n",
        "sizes = [105, 194]\n",
        "explode = (0.01, 0.1)\n",
        "colors = ['lightblue', '#2d3980']\n",
        "plt.title = ('non')\n",
        "fig1, ax1 = plt.subplots()\n",
        "ax1.pie(sizes, explode=explode, labels=labels, autopct='%1.1f%%',\n",
        "       shadow=True, startangle= 90, colors=colors)\n",
        "ax1.axis('equal') \n",
        "plt.show()\n",
        "\n",
        "\n",
        "labels = 'male', 'female'\n",
        "sizes = [194, 105]\n",
        "explode = (0.01, 0.1)\n",
        "colors = ['lightblue', '#2d3980']\n",
        "plt.title = ('non')\n",
        "fig1, ax1 = plt.subplots()\n",
        "ax1.pie(sizes, explode=explode, labels=labels, autopct='%1.1f%%',\n",
        "       shadow=True, startangle= 90, colors=colors)\n",
        "ax1.axis('equal') \n",
        "plt.show()\n",
        "\n",
        "labels = 'anaemic', 'non-anaemic'\n",
        "sizes = [129, 170]\n",
        "explode = (0.01, 0.1)\n",
        "colors = ['lightblue', '#2d3980']\n",
        "plt.title = ('non')\n",
        "fig1, ax1 = plt.subplots()\n",
        "ax1.pie(sizes, explode=explode, labels=labels, autopct='%1.1f%%',\n",
        "        shadow=True, startangle=90, colors=colors)\n",
        "ax1.axis('equal') \n",
        "plt.show()\n",
        "\n",
        "\n",
        "\n",
        "labels = 'deceased', 'non-deceased'\n",
        "sizes = [96, 203]\n",
        "explode = (0.01, 0.1)\n",
        "colors = ['lightblue', '#2d3980']\n",
        "plt.title = ('non')\n",
        "fig1, ax1 = plt.subplots()\n",
        "ax1.pie(sizes, explode=explode, labels=labels, autopct='%1.1f%%',\n",
        "       shadow=True, startangle= 90, colors=colors)\n",
        "ax1.axis('equal') \n",
        "plt.show()"
      ],
      "execution_count": null,
      "outputs": [
        {
          "output_type": "display_data",
          "data": {
            "image/png": "[encoded data removed]",
            "text/plain": [
              "<Figure size 432x288 with 1 Axes>"
            ]
          },
          "metadata": {
            "tags": []
          }
        },
        {
          "output_type": "display_data",
          "data": {
            "image/png": "[encoded data removed]",
            "text/plain": [
              "<Figure size 432x288 with 1 Axes>"
            ]
          },
          "metadata": {
            "tags": []
          }
        },
        {
          "output_type": "display_data",
          "data": {
            "image/png": "[encoded data removed]",
            "text/plain": [
              "<Figure size 432x288 with 1 Axes>"
            ]
          },
          "metadata": {
            "tags": []
          }
        },
        {
          "output_type": "display_data",
          "data": {
            "image/png": "[encoded data removed]",
            "text/plain": [
              "<Figure size 432x288 with 1 Axes>"
            ]
          },
          "metadata": {
            "tags": []
          }
        },
        {
          "output_type": "display_data",
          "data": {
            "image/png": "[encoded data removed]",
            "text/plain": [
              "<Figure size 432x288 with 1 Axes>"
            ]
          },
          "metadata": {
            "tags": []
          }
        },
        {
          "output_type": "display_data",
          "data": {
            "image/png": "[encoded data removed]",
            "text/plain": [
              "<Figure size 432x288 with 1 Axes>"
            ]
          },
          "metadata": {
            "tags": []
          }
        }
      ]
    }
  ]
}